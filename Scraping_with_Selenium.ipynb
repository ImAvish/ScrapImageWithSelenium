{
  "nbformat": 4,
  "nbformat_minor": 0,
  "metadata": {
    "colab": {
      "name": "Scraping with Selenium.ipynb",
      "provenance": [],
      "collapsed_sections": []
    },
    "kernelspec": {
      "name": "python3",
      "display_name": "Python 3"
    },
    "language_info": {
      "name": "python"
    }
  },
  "cells": [
    {
      "cell_type": "markdown",
      "metadata": {
        "id": "36dcb819"
      },
      "source": [
        "# Scraping with Selenium"
      ]
    },
    {
      "cell_type": "code",
      "execution_count": null,
      "metadata": {
        "id": "1de947ad"
      },
      "outputs": [],
      "source": [
        "from selenium import webdriver\n",
        "import time\n",
        "import requests\n",
        "from bs4 import BeautifulSoup\n",
        "from selenium.webdriver.support import expected_conditions\n",
        "from selenium.webdriver.common.by import By\n",
        "from selenium.webdriver.support.ui import WebDriverWait\n",
        "import os"
      ]
    },
    {
      "cell_type": "code",
      "source": [
        "browser = webdriver.Chrome('chromedriver_win32/chromedriver.exe')\n",
        "browser.get(\"https://nl.shein.com/Ditsy-Floral-Ruffle-Hem-Dress-p-2463961-cat-1727.html?src_identifier=fc%3DWomen%60sc%3DJURKEN%60tc%3D0%60oc%3D0%60ps%3Dtab01navbar06%60jc%3Dreal_1727&src_module=topcat&src_tab_page_id=page_home1659512966654&mallCode=1&scici=navbar_WomenHomePage~~tab01navbar06~~6~~real_1727~~~~0\") # open your webpage\n",
        "html = browser.page_source\n",
        "soup = BeautifulSoup(html, 'html.parser')\n",
        "\n",
        "images = browser.find_elements(By.CLASS_NAME,'swiper-slide customerreviews-details__image-slide-item.swiper-slide-next') # load more button\n",
        "\n",
        "html = browser.page_source\n",
        "soup = BeautifulSoup(html, 'html.parser') \n",
        "time.sleep(5)\n",
        "# select images\n",
        "image_data = []\n",
        "images = soup.select('img')\n",
        "for image in images:\n",
        "    src = image.get('data-src')\n",
        "    image_data.append(src)\n",
        "len(image_data)\n",
        "browser.close()"
      ],
      "metadata": {
        "id": "wreHfNLuyF9Y"
      },
      "execution_count": null,
      "outputs": []
    },
    {
      "cell_type": "code",
      "execution_count": null,
      "metadata": {
        "id": "760924c9"
      },
      "outputs": [],
      "source": [
        "image_urls=[]\n",
        "for i in image_data:\n",
        "    if  i!=None:\n",
        "        if 'images3/' in i:\n",
        "            if '80x120' not in i:\n",
        "                image_urls.append(i) \n",
        "\n",
        "#save        \n",
        "for img in image_urls:\n",
        "    file_name = img.split('/')[-1]\n",
        "    r = requests.get('http:'+img)\n",
        "    with open(os.path.join('userSheinimages',file_name), 'wb') as f:\n",
        "        for chunk in r:\n",
        "            f.write(chunk)     "
      ]
    }
  ]
}